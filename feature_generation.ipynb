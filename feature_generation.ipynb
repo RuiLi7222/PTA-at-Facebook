{
 "cells": [
  {
   "cell_type": "code",
   "execution_count": 2,
   "metadata": {},
   "outputs": [],
   "source": [
    "import pandas as pd"
   ]
  },
  {
   "cell_type": "code",
   "execution_count": 3,
   "metadata": {},
   "outputs": [
    {
     "name": "stdout",
     "output_type": "stream",
     "text": [
      "            4        5       6    7       8    9\n",
      "0      2889.0     3970  2889.0    8  2890.0  231\n",
      "1      2889.0     6086  2886.0   85  2888.0    1\n",
      "2      2889.0     7814  2885.0  327  2888.0   15\n",
      "3      2889.0    10990  2886.0    1  2889.0   75\n",
      "4      2886.0    12156  2882.0  241  2886.0   29\n",
      "...       ...      ...     ...  ...     ...  ...\n",
      "26954  2850.0  2580914  2850.0  303  2855.0  181\n",
      "26955  2851.0  2581126  2851.0   33  2855.0  184\n",
      "26956  2852.0  2581272  2851.0    1  2855.0  162\n",
      "26957  2851.0  2581552  2850.0  230  2851.0    1\n",
      "26958  2851.0  2581552  2850.0  230  2851.0    1\n",
      "\n",
      "[26959 rows x 6 columns]\n"
     ]
    }
   ],
   "source": [
    "data = pd.read_csv(\n",
    "    filepath_or_buffer='/home/jovyan/work/rb1705/20170103', \n",
    "    sep=',',  \n",
    "    header=None,\n",
    "    usecols=[4, 5, 6, 7, 8, 9],\n",
    ")\n",
    "\n",
    "print(data)"
   ]
  },
  {
   "cell_type": "code",
   "execution_count": 4,
   "metadata": {},
   "outputs": [
    {
     "name": "stdout",
     "output_type": "stream",
     "text": [
      "0             [2889.0, 3970.0, 2889.0, 8.0, 2890.0, 231.0]\n",
      "1              [2889.0, 6086.0, 2886.0, 85.0, 2888.0, 1.0]\n",
      "2            [2889.0, 7814.0, 2885.0, 327.0, 2888.0, 15.0]\n",
      "3             [2889.0, 10990.0, 2886.0, 1.0, 2889.0, 75.0]\n",
      "4           [2886.0, 12156.0, 2882.0, 241.0, 2886.0, 29.0]\n",
      "                               ...                        \n",
      "26954    [2850.0, 2580914.0, 2850.0, 303.0, 2855.0, 181.0]\n",
      "26955     [2851.0, 2581126.0, 2851.0, 33.0, 2855.0, 184.0]\n",
      "26956      [2852.0, 2581272.0, 2851.0, 1.0, 2855.0, 162.0]\n",
      "26957      [2851.0, 2581552.0, 2850.0, 230.0, 2851.0, 1.0]\n",
      "26958      [2851.0, 2581552.0, 2850.0, 230.0, 2851.0, 1.0]\n",
      "Length: 26959, dtype: object\n"
     ]
    }
   ],
   "source": [
    "vectorized_data = data.apply(func=lambda x: [i for i in x], axis=1)\n",
    "\n",
    "print(vectorized_data)\n",
    "# 1, 1 -> [1, 1]"
   ]
  },
  {
   "cell_type": "code",
   "execution_count": 5,
   "metadata": {},
   "outputs": [
    {
     "name": "stdout",
     "output_type": "stream",
     "text": [
      "2\n"
     ]
    }
   ],
   "source": [
    "shifted_data = []\n",
    "\n",
    "for i in range(2):\n",
    "    shifted_data.append(vectorized_data.shift(-i))\n",
    "    \n",
    "print(len(shifted_data))"
   ]
  },
  {
   "cell_type": "code",
   "execution_count": 6,
   "metadata": {},
   "outputs": [
    {
     "name": "stdout",
     "output_type": "stream",
     "text": [
      "                                                       0  \\\n",
      "0           [2889.0, 3970.0, 2889.0, 8.0, 2890.0, 231.0]   \n",
      "1            [2889.0, 6086.0, 2886.0, 85.0, 2888.0, 1.0]   \n",
      "2          [2889.0, 7814.0, 2885.0, 327.0, 2888.0, 15.0]   \n",
      "3           [2889.0, 10990.0, 2886.0, 1.0, 2889.0, 75.0]   \n",
      "4         [2886.0, 12156.0, 2882.0, 241.0, 2886.0, 29.0]   \n",
      "...                                                  ...   \n",
      "26954  [2850.0, 2580914.0, 2850.0, 303.0, 2855.0, 181.0]   \n",
      "26955   [2851.0, 2581126.0, 2851.0, 33.0, 2855.0, 184.0]   \n",
      "26956    [2852.0, 2581272.0, 2851.0, 1.0, 2855.0, 162.0]   \n",
      "26957    [2851.0, 2581552.0, 2850.0, 230.0, 2851.0, 1.0]   \n",
      "26958    [2851.0, 2581552.0, 2850.0, 230.0, 2851.0, 1.0]   \n",
      "\n",
      "                                                      1  \n",
      "0           [2889.0, 6086.0, 2886.0, 85.0, 2888.0, 1.0]  \n",
      "1         [2889.0, 7814.0, 2885.0, 327.0, 2888.0, 15.0]  \n",
      "2          [2889.0, 10990.0, 2886.0, 1.0, 2889.0, 75.0]  \n",
      "3        [2886.0, 12156.0, 2882.0, 241.0, 2886.0, 29.0]  \n",
      "4        [2885.0, 12788.0, 2883.0, 45.0, 2885.0, 229.0]  \n",
      "...                                                 ...  \n",
      "26954  [2851.0, 2581126.0, 2851.0, 33.0, 2855.0, 184.0]  \n",
      "26955   [2852.0, 2581272.0, 2851.0, 1.0, 2855.0, 162.0]  \n",
      "26956   [2851.0, 2581552.0, 2850.0, 230.0, 2851.0, 1.0]  \n",
      "26957   [2851.0, 2581552.0, 2850.0, 230.0, 2851.0, 1.0]  \n",
      "26958                                               NaN  \n",
      "\n",
      "[26959 rows x 2 columns]\n"
     ]
    }
   ],
   "source": [
    "merged_data = pd.concat(shifted_data, axis=1)\n",
    "\n",
    "print(merged_data)"
   ]
  },
  {
   "cell_type": "code",
   "execution_count": 27,
   "metadata": {},
   "outputs": [
    {
     "data": {
      "text/plain": [
       "1    [2889.0, 6086.0, 2886.0, 85.0, 2888.0, 1.0]\n",
       "dtype: object"
      ]
     },
     "execution_count": 27,
     "metadata": {},
     "output_type": "execute_result"
    }
   ],
   "source": [
    "result = merged_data.apply(func=lambda x: [i for i in x], axis=1)"
   ]
  }
 ],
 "metadata": {
  "kernelspec": {
   "display_name": "Python 3",
   "language": "python",
   "name": "python3"
  },
  "language_info": {
   "codemirror_mode": {
    "name": "ipython",
    "version": 3
   },
   "file_extension": ".py",
   "mimetype": "text/x-python",
   "name": "python",
   "nbconvert_exporter": "python",
   "pygments_lexer": "ipython3",
   "version": "3.7.6"
  }
 },
 "nbformat": 4,
 "nbformat_minor": 4
}

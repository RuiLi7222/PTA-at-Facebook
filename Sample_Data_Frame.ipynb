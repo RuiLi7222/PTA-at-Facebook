{
 "cells": [
  {
   "cell_type": "code",
   "execution_count": 39,
   "metadata": {},
   "outputs": [],
   "source": [
    "import pandas as pd\n",
    "import numpy as np\n",
    "import os\n",
    "import csv"
   ]
  },
  {
   "cell_type": "code",
   "execution_count": 40,
   "metadata": {},
   "outputs": [
    {
     "data": {
      "text/html": [
       "<div>\n",
       "<style scoped>\n",
       "    .dataframe tbody tr th:only-of-type {\n",
       "        vertical-align: middle;\n",
       "    }\n",
       "\n",
       "    .dataframe tbody tr th {\n",
       "        vertical-align: top;\n",
       "    }\n",
       "\n",
       "    .dataframe thead th {\n",
       "        text-align: right;\n",
       "    }\n",
       "</style>\n",
       "<table border=\"1\" class=\"dataframe\">\n",
       "  <thead>\n",
       "    <tr style=\"text-align: right;\">\n",
       "      <th></th>\n",
       "      <th>Feature</th>\n",
       "      <th>Label</th>\n",
       "    </tr>\n",
       "  </thead>\n",
       "  <tbody>\n",
       "  </tbody>\n",
       "</table>\n",
       "</div>"
      ],
      "text/plain": [
       "Empty DataFrame\n",
       "Columns: [Feature, Label]\n",
       "Index: []"
      ]
     },
     "execution_count": 40,
     "metadata": {},
     "output_type": "execute_result"
    }
   ],
   "source": [
    "#Create the dataframe.csv with colnames\n",
    "sample = pd.DataFrame(columns=['Feature', 'Label'])\n",
    "sample"
   ]
  },
  {
   "cell_type": "code",
   "execution_count": 47,
   "metadata": {},
   "outputs": [],
   "source": [
    "#Import initial dataset\n",
    "filename = '/home/jovyan/work/rb1705/20170103'\n",
    "data = pd.read_csv(\n",
    "    filepath_or_buffer= filename, \n",
    "    sep=',',  \n",
    "    header=None,\n",
    "    usecols=[4, 5, 6, 7, 8, 9],\n",
    ")\n",
    "\n",
    "#Convert each row to an array\n",
    "vectorized_data = data.apply(func=lambda x: [i for i in x], axis=1)\n",
    "    \n",
    "feature_array = []#Combine all array to an object (include price)\n",
    "new_feature = []#Combine all features to an object(exclude price)\n",
    "for features in vectorized_data:\n",
    "    feature_array.append(features)\n",
    "    new_feature.append(features[1:6])\n",
    "    \n",
    "feature_last = len(feature_array)-1\n",
    "for i in range(4,feature_last):   \n",
    "    label = feature_array[i+1][0]-feature_array[i][0]#change in price\n",
    "    feature = [new_feature[(i-4):(i+1)]]#features with past 5 periods\n",
    "    row = pd.DataFrame(data={'Feature':[feature], 'Label':[label]})\n",
    "    sample = sample.append(row, ignore_index = True)"
   ]
  },
  {
   "cell_type": "code",
   "execution_count": 46,
   "metadata": {},
   "outputs": [],
   "source": [
    "sample.to_csv(\"Sample.csv\",index=False)"
   ]
  }
 ],
 "metadata": {
  "kernelspec": {
   "display_name": "Python 3",
   "language": "python",
   "name": "python3"
  },
  "language_info": {
   "codemirror_mode": {
    "name": "ipython",
    "version": 3
   },
   "file_extension": ".py",
   "mimetype": "text/x-python",
   "name": "python",
   "nbconvert_exporter": "python",
   "pygments_lexer": "ipython3",
   "version": "3.7.6"
  }
 },
 "nbformat": 4,
 "nbformat_minor": 4
}

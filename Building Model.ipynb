{
 "cells": [
  {
   "cell_type": "code",
   "execution_count": 19,
   "metadata": {},
   "outputs": [],
   "source": [
    "import pandas as pd\n",
    "import numpy as np\n",
    "import torch\n",
    "import csv\n",
    "from torch import nn\n",
    "from ast import literal_eval\n",
    "import torch.optim as optim"
   ]
  },
  {
   "cell_type": "code",
   "execution_count": 20,
   "metadata": {},
   "outputs": [],
   "source": [
    "#Import Samples\n",
    "samples = pd.read_csv('Sample.csv')"
   ]
  },
  {
   "cell_type": "code",
   "execution_count": 21,
   "metadata": {},
   "outputs": [],
   "source": [
    "#Define the network\n",
    "class Linear(nn.Module):\n",
    "    def __init__(self):\n",
    "        super(Linear, self).__init__()\n",
    "        #coefficient\n",
    "        self.a = torch.nn.Parameter(torch.rand(1, requires_grad=True))\n",
    "        #slope\n",
    "        self.b = torch.nn.Parameter(torch.rand(1, requires_grad=True))\n",
    "        \n",
    "    def forward(self, feature):\n",
    "        #Set up LSTM model \n",
    "        input = torch.reshape(torch.tensor(feature),[5,1,5])\n",
    "        rnn = nn.LSTM(5, 20, 2)\n",
    "        h0 = torch.randn(2, 1, 20)\n",
    "        c0 = torch.randn(2, 1, 20)\n",
    "        output, (hn, cn) = rnn(input, (h0, c0))\n",
    "        \n",
    "        #Applies a linear transformation to the incoming data\n",
    "        x = output[-1]\n",
    "        m = nn.Linear(20, 1)\n",
    "        linear_x = m(x)\n",
    "        return self.a*linear_x+self.b\n",
    "linear = Linear()"
   ]
  },
  {
   "cell_type": "code",
   "execution_count": 22,
   "metadata": {},
   "outputs": [],
   "source": [
    "#Training Data\n",
    "for i in range(0,len(samples)):\n",
    "    #Get sample\n",
    "    sample = samples.iloc[i]\n",
    "    feature = literal_eval(sample['Feature'])\n",
    "    label = sample['Label']\n",
    "    \n",
    "    #Apply Linear() function\n",
    "    new_label = linear(feature)\n",
    "    linear.zero_grad()\n",
    "    new_label.backward(torch.randn(1,1))\n",
    "    \n",
    "    #Loss Function\n",
    "    new_label = linear(feature)\n",
    "    label = torch.Tensor([label])\n",
    "    label = label.view(1,-1)\n",
    "    criterion = nn.MSELoss()\n",
    "    loss = criterion(new_label, label)\n",
    "    \n",
    "    #Backprop\n",
    "    linear.zero_grad()    \n",
    "    loss.backward()\n",
    "    \n",
    "    # create optimizer\n",
    "    optimizer = optim.SGD(linear.parameters(), lr=0.01)\n",
    "    optimizer.zero_grad()   # zero the gradient buffers\n",
    "    new_label = linear(feature)\n",
    "    loss = criterion(new_label, label)\n",
    "    loss.backward()\n",
    "    optimizer.step()    # Does the update"
   ]
  },
  {
   "cell_type": "code",
   "execution_count": 24,
   "metadata": {},
   "outputs": [
    {
     "name": "stdout",
     "output_type": "stream",
     "text": [
      "Parameter containing:\n",
      "tensor([0.1058], requires_grad=True)\n",
      "Parameter containing:\n",
      "tensor([-0.0157], requires_grad=True)\n"
     ]
    }
   ],
   "source": [
    "print(linear.a)\n",
    "print(linear.b)"
   ]
  },
  {
   "cell_type": "code",
   "execution_count": null,
   "metadata": {},
   "outputs": [],
   "source": []
  }
 ],
 "metadata": {
  "kernelspec": {
   "display_name": "Python 3",
   "language": "python",
   "name": "python3"
  },
  "language_info": {
   "codemirror_mode": {
    "name": "ipython",
    "version": 3
   },
   "file_extension": ".py",
   "mimetype": "text/x-python",
   "name": "python",
   "nbconvert_exporter": "python",
   "pygments_lexer": "ipython3",
   "version": "3.7.6"
  }
 },
 "nbformat": 4,
 "nbformat_minor": 4
}
